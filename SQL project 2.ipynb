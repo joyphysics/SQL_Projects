{
 "cells": [
  {
   "cell_type": "markdown",
   "id": "6b5ed27c-1bbe-40fd-8fe9-60c4608ccb84",
   "metadata": {},
   "source": [
    "#### Import packages"
   ]
  },
  {
   "cell_type": "code",
   "execution_count": 31,
   "id": "a4c5d43c-2abf-4bfe-8d67-36efe5699de6",
   "metadata": {},
   "outputs": [
    {
     "name": "stdout",
     "output_type": "stream",
     "text": [
      "The sql extension is already loaded. To reload it, use:\n",
      "  %reload_ext sql\n"
     ]
    }
   ],
   "source": [
    "import sqlite3\n",
    "import sqlalchemy\n",
    "import pandas as pd\n",
    "import matplotlib.pyplot as plt\n",
    "import seaborn as sns\n",
    "from datetime import datetime, timedelta\n",
    "import numpy as np\n",
    "import random\n",
    "import prettytable\n",
    "prettytable.DEFAULT = 'DEFAULT'\n",
    "\n",
    "import warnings\n",
    "warnings.filterwarnings('ignore')\n",
    "%load_ext sql\n",
    "# Set up plotting\n",
    "plt.style.use('seaborn-v0_8')"
   ]
  },
  {
   "cell_type": "markdown",
   "id": "4828bf44-8346-41e4-8c8a-c0da03b48298",
   "metadata": {},
   "source": [
    "####  Create Sample Database\n",
    "\n",
    "Setting up the database structure with five related tables to simulate an e-commerce system. Each table has specific data types and relationships."
   ]
  },
  {
   "cell_type": "code",
   "execution_count": 32,
   "id": "2c176050-1997-4b3b-8e89-b03d5b6d9fb9",
   "metadata": {},
   "outputs": [],
   "source": [
    "# Create connection to SQLite database\n",
    "conn = sqlite3.connect('ecommerce.db')\n",
    "\n",
    "# Create SQLite database\n",
    "%sql sqlite:///ecommerce.db\n"
   ]
  },
  {
   "cell_type": "code",
   "execution_count": 34,
   "id": "fed712f5-5994-4753-8e4a-b85fbb9d5b72",
   "metadata": {},
   "outputs": [
    {
     "name": "stdout",
     "output_type": "stream",
     "text": [
      "   sqlite:///SQLiteMagic.db\n",
      " * sqlite:///ecommerce.db\n",
      "Done.\n",
      "Done.\n",
      "Done.\n",
      "Done.\n",
      "Done.\n"
     ]
    },
    {
     "data": {
      "text/plain": [
       "[]"
      ]
     },
     "execution_count": 34,
     "metadata": {},
     "output_type": "execute_result"
    }
   ],
   "source": [
    "%%sql\n",
    "-- Create Customers table\n",
    "CREATE TABLE IF NOT EXISTS customers (\n",
    "    customer_id INTEGER PRIMARY KEY,\n",
    "    first_name VARCHAR(50),\n",
    "    last_name VARCHAR(50),\n",
    "    email VARCHAR(100),\n",
    "    phone VARCHAR(20),\n",
    "    city VARCHAR(50),\n",
    "    state VARCHAR(50),\n",
    "    country VARCHAR(50),\n",
    "    registration_date DATE,\n",
    "    age INTEGER\n",
    ");\n",
    "\n",
    "-- Create Categories table\n",
    "CREATE TABLE IF NOT EXISTS categories (\n",
    "    category_id INTEGER PRIMARY KEY,\n",
    "    category_name VARCHAR(50),\n",
    "    description TEXT\n",
    ");\n",
    "\n",
    "-- Create Products table\n",
    "CREATE TABLE IF NOT EXISTS products (\n",
    "    product_id INTEGER PRIMARY KEY,\n",
    "    product_name VARCHAR(100),\n",
    "    category_id INTEGER,\n",
    "    price DECIMAL(10,2),\n",
    "    cost DECIMAL(10,2),\n",
    "    stock_quantity INTEGER,\n",
    "    supplier VARCHAR(50),\n",
    "    FOREIGN KEY (category_id) REFERENCES categories(category_id)\n",
    ");\n",
    "\n",
    "-- Create Orders table\n",
    "CREATE TABLE IF NOT EXISTS orders (\n",
    "    order_id INTEGER PRIMARY KEY,\n",
    "    customer_id INTEGER,\n",
    "    order_date DATE,\n",
    "    total_amount DECIMAL(10,2),\n",
    "    status VARCHAR(20),\n",
    "    shipping_address TEXT,\n",
    "    FOREIGN KEY (customer_id) REFERENCES customers(customer_id)\n",
    ");\n",
    "\n",
    "-- Create Order Items table\n",
    "CREATE TABLE IF NOT EXISTS order_items (\n",
    "    order_item_id INTEGER PRIMARY KEY,\n",
    "    order_id INTEGER,\n",
    "    product_id INTEGER,\n",
    "    quantity INTEGER,\n",
    "    unit_price DECIMAL(10,2),\n",
    "    FOREIGN KEY (order_id) REFERENCES orders(order_id),\n",
    "    FOREIGN KEY (product_id) REFERENCES products(product_id)\n",
    ");"
   ]
  },
  {
   "cell_type": "markdown",
   "id": "e2e7d6de-420f-4681-88ba-66c49dcb1f9b",
   "metadata": {},
   "source": [
    "### Data Population\n",
    "\n",
    "Populating our empty database tables with realistic sample data to simulate a real e-commerce business scenario."
   ]
  },
  {
   "cell_type": "code",
   "execution_count": 35,
   "id": "a9b2b187-77d6-4361-9021-bd557c37d613",
   "metadata": {},
   "outputs": [
    {
     "name": "stdout",
     "output_type": "stream",
     "text": [
      "   sqlite:///SQLiteMagic.db\n",
      " * sqlite:///ecommerce.db\n",
      "1 rows affected.\n",
      "   sqlite:///SQLiteMagic.db\n",
      " * sqlite:///ecommerce.db\n",
      "1 rows affected.\n",
      "   sqlite:///SQLiteMagic.db\n",
      " * sqlite:///ecommerce.db\n",
      "1 rows affected.\n",
      "   sqlite:///SQLiteMagic.db\n",
      " * sqlite:///ecommerce.db\n",
      "1 rows affected.\n",
      "   sqlite:///SQLiteMagic.db\n",
      " * sqlite:///ecommerce.db\n",
      "1 rows affected.\n"
     ]
    }
   ],
   "source": [
    "# Sample data for categories\n",
    "categories_data = [\n",
    "    (1, 'Electronics', 'Electronic devices and accessories'),\n",
    "    (2, 'Clothing', 'Apparel and fashion items'),\n",
    "    (3, 'Books', 'Books and educational materials'),\n",
    "    (4, 'Home & Garden', 'Home improvement and garden supplies'),\n",
    "    (5, 'Sports', 'Sports equipment and accessories')\n",
    "]\n",
    "\n",
    "# Insert categories\n",
    "for cat in categories_data:\n",
    "    %sql INSERT OR IGNORE INTO categories VALUES {cat}"
   ]
  },
  {
   "cell_type": "code",
   "execution_count": 48,
   "id": "9cd83d08-1279-4c24-9fc6-544b2509c2b5",
   "metadata": {},
   "outputs": [
    {
     "name": "stdout",
     "output_type": "stream",
     "text": [
      "   sqlite:///SQLiteMagic.db\n",
      " * sqlite:///ecommerce.db\n",
      "0 rows affected.\n",
      "0 rows affected.\n",
      "0 rows affected.\n",
      "0 rows affected.\n"
     ]
    },
    {
     "data": {
      "text/plain": [
       "[]"
      ]
     },
     "execution_count": 48,
     "metadata": {},
     "output_type": "execute_result"
    }
   ],
   "source": [
    "%%sql\n",
    "-- Insert sample customers\n",
    "INSERT OR IGNORE INTO customers VALUES\n",
    "(1, 'John', 'Smith', 'john.smith@email.com', '555-0101', 'New York', 'NY', 'USA', '2023-01-15', 28),\n",
    "(2, 'Jane', 'Doe', 'jane.doe@email.com', '555-0102', 'Los Angeles', 'CA', 'USA', '2023-02-20', 34),\n",
    "(3, 'Mike', 'Johnson', 'mike.j@email.com', '555-0103', 'Chicago', 'IL', 'USA', '2023-03-10', 41),\n",
    "(4, 'Sarah', 'Wilson', 'sarah.w@email.com', '555-0104', 'Houston', 'TX', 'USA', '2023-01-25', 29),\n",
    "(5, 'David', 'Brown', 'david.b@email.com', '555-0105', 'Phoenix', 'AZ', 'USA', '2023-04-05', 36);\n",
    "\n",
    "-- Insert sample products\n",
    "INSERT OR IGNORE INTO products VALUES\n",
    "(1, 'iPhone 14', 1, 999.99, 700.00, 50, 'Apple Inc'),\n",
    "(2, 'Samsung Galaxy S23', 1, 899.99, 650.00, 45, 'Samsung'),\n",
    "(3, 'Nike Air Max', 2, 129.99, 80.00, 100, 'Nike'),\n",
    "(4, 'Levi Jeans', 2, 79.99, 40.00, 75, 'Levi Strauss'),\n",
    "(5, 'Python Programming Book', 3, 49.99, 25.00, 30, 'Tech Books Inc'),\n",
    "(6, 'Garden Hose', 4, 39.99, 20.00, 25, 'Garden Tools Co'),\n",
    "(7, 'Tennis Racket', 5, 159.99, 90.00, 20, 'SportsTech');\n",
    "\n",
    "-- Insert sample orders\n",
    "INSERT OR IGNORE INTO orders VALUES\n",
    "(1, 1, '2024-01-15', 1049.98, 'Completed', '123 Main St, New York, NY'),\n",
    "(2, 2, '2024-01-20', 209.98, 'Completed', '456 Oak Ave, Los Angeles, CA'),\n",
    "(3, 3, '2024-02-01', 159.99, 'Shipped', '789 Pine St, Chicago, IL'),\n",
    "(4, 1, '2024-02-15', 79.99, 'Completed', '123 Main St, New York, NY'),\n",
    "(5, 4, '2024-03-01', 89.98, 'Processing', '321 Elm St, Houston, TX');\n",
    "\n",
    "-- Insert order items\n",
    "INSERT OR IGNORE INTO order_items VALUES\n",
    "(1, 1, 1, 1, 999.99),\n",
    "(2, 1, 3, 1, 49.99),\n",
    "(3, 2, 3, 1, 129.99),\n",
    "(4, 2, 4, 1, 79.99),\n",
    "(5, 3, 7, 1, 159.99),\n",
    "(6, 4, 4, 1, 79.99),\n",
    "(7, 5, 5, 1, 49.99),\n",
    "(8, 5, 6, 1, 39.99);"
   ]
  },
  {
   "cell_type": "markdown",
   "id": "36ffc8fd-6a2f-4d3c-855d-a36836b3f475",
   "metadata": {},
   "source": [
    "### Basic SQL Queries"
   ]
  },
  {
   "cell_type": "code",
   "execution_count": 49,
   "id": "97013753-6efa-44b4-b28a-f05df4ea9167",
   "metadata": {},
   "outputs": [
    {
     "name": "stdout",
     "output_type": "stream",
     "text": [
      "   sqlite:///SQLiteMagic.db\n",
      " * sqlite:///ecommerce.db\n",
      "Done.\n"
     ]
    },
    {
     "data": {
      "text/html": [
       "<table>\n",
       "    <thead>\n",
       "        <tr>\n",
       "            <th>customer_id</th>\n",
       "            <th>first_name</th>\n",
       "            <th>last_name</th>\n",
       "            <th>email</th>\n",
       "            <th>phone</th>\n",
       "            <th>city</th>\n",
       "            <th>state</th>\n",
       "            <th>country</th>\n",
       "            <th>registration_date</th>\n",
       "            <th>age</th>\n",
       "        </tr>\n",
       "    </thead>\n",
       "    <tbody>\n",
       "        <tr>\n",
       "            <td>1</td>\n",
       "            <td>John</td>\n",
       "            <td>Smith</td>\n",
       "            <td>john.smith@email.com</td>\n",
       "            <td>555-0101</td>\n",
       "            <td>New York</td>\n",
       "            <td>NY</td>\n",
       "            <td>USA</td>\n",
       "            <td>2023-01-15</td>\n",
       "            <td>28</td>\n",
       "        </tr>\n",
       "        <tr>\n",
       "            <td>2</td>\n",
       "            <td>Jane</td>\n",
       "            <td>Doe</td>\n",
       "            <td>jane.doe@email.com</td>\n",
       "            <td>555-0102</td>\n",
       "            <td>Los Angeles</td>\n",
       "            <td>CA</td>\n",
       "            <td>USA</td>\n",
       "            <td>2023-02-20</td>\n",
       "            <td>34</td>\n",
       "        </tr>\n",
       "        <tr>\n",
       "            <td>3</td>\n",
       "            <td>Mike</td>\n",
       "            <td>Johnson</td>\n",
       "            <td>mike.j@email.com</td>\n",
       "            <td>555-0103</td>\n",
       "            <td>Chicago</td>\n",
       "            <td>IL</td>\n",
       "            <td>USA</td>\n",
       "            <td>2023-03-10</td>\n",
       "            <td>41</td>\n",
       "        </tr>\n",
       "        <tr>\n",
       "            <td>4</td>\n",
       "            <td>Sarah</td>\n",
       "            <td>Wilson</td>\n",
       "            <td>sarah.w@email.com</td>\n",
       "            <td>555-0104</td>\n",
       "            <td>Houston</td>\n",
       "            <td>TX</td>\n",
       "            <td>USA</td>\n",
       "            <td>2023-01-25</td>\n",
       "            <td>29</td>\n",
       "        </tr>\n",
       "        <tr>\n",
       "            <td>5</td>\n",
       "            <td>David</td>\n",
       "            <td>Brown</td>\n",
       "            <td>david.b@email.com</td>\n",
       "            <td>555-0105</td>\n",
       "            <td>Phoenix</td>\n",
       "            <td>AZ</td>\n",
       "            <td>USA</td>\n",
       "            <td>2023-04-05</td>\n",
       "            <td>36</td>\n",
       "        </tr>\n",
       "    </tbody>\n",
       "</table>"
      ],
      "text/plain": [
       "[(1, 'John', 'Smith', 'john.smith@email.com', '555-0101', 'New York', 'NY', 'USA', '2023-01-15', 28),\n",
       " (2, 'Jane', 'Doe', 'jane.doe@email.com', '555-0102', 'Los Angeles', 'CA', 'USA', '2023-02-20', 34),\n",
       " (3, 'Mike', 'Johnson', 'mike.j@email.com', '555-0103', 'Chicago', 'IL', 'USA', '2023-03-10', 41),\n",
       " (4, 'Sarah', 'Wilson', 'sarah.w@email.com', '555-0104', 'Houston', 'TX', 'USA', '2023-01-25', 29),\n",
       " (5, 'David', 'Brown', 'david.b@email.com', '555-0105', 'Phoenix', 'AZ', 'USA', '2023-04-05', 36)]"
      ]
     },
     "execution_count": 49,
     "metadata": {},
     "output_type": "execute_result"
    }
   ],
   "source": [
    "%%sql\n",
    "-- Basic SELECT with all columns\n",
    "SELECT * FROM customers LIMIT 5;"
   ]
  },
  {
   "cell_type": "code",
   "execution_count": 50,
   "id": "f7a20a2a-8a6c-4652-8817-7a6e3b71f105",
   "metadata": {},
   "outputs": [
    {
     "name": "stdout",
     "output_type": "stream",
     "text": [
      "   sqlite:///SQLiteMagic.db\n",
      " * sqlite:///ecommerce.db\n",
      "Done.\n"
     ]
    },
    {
     "data": {
      "text/html": [
       "<table>\n",
       "    <thead>\n",
       "        <tr>\n",
       "            <th>first_name</th>\n",
       "            <th>last_name</th>\n",
       "            <th>email</th>\n",
       "            <th>city</th>\n",
       "        </tr>\n",
       "    </thead>\n",
       "    <tbody>\n",
       "        <tr>\n",
       "            <td>John</td>\n",
       "            <td>Smith</td>\n",
       "            <td>john.smith@email.com</td>\n",
       "            <td>New York</td>\n",
       "        </tr>\n",
       "        <tr>\n",
       "            <td>Jane</td>\n",
       "            <td>Doe</td>\n",
       "            <td>jane.doe@email.com</td>\n",
       "            <td>Los Angeles</td>\n",
       "        </tr>\n",
       "        <tr>\n",
       "            <td>Mike</td>\n",
       "            <td>Johnson</td>\n",
       "            <td>mike.j@email.com</td>\n",
       "            <td>Chicago</td>\n",
       "        </tr>\n",
       "        <tr>\n",
       "            <td>Sarah</td>\n",
       "            <td>Wilson</td>\n",
       "            <td>sarah.w@email.com</td>\n",
       "            <td>Houston</td>\n",
       "        </tr>\n",
       "        <tr>\n",
       "            <td>David</td>\n",
       "            <td>Brown</td>\n",
       "            <td>david.b@email.com</td>\n",
       "            <td>Phoenix</td>\n",
       "        </tr>\n",
       "    </tbody>\n",
       "</table>"
      ],
      "text/plain": [
       "[('John', 'Smith', 'john.smith@email.com', 'New York'),\n",
       " ('Jane', 'Doe', 'jane.doe@email.com', 'Los Angeles'),\n",
       " ('Mike', 'Johnson', 'mike.j@email.com', 'Chicago'),\n",
       " ('Sarah', 'Wilson', 'sarah.w@email.com', 'Houston'),\n",
       " ('David', 'Brown', 'david.b@email.com', 'Phoenix')]"
      ]
     },
     "execution_count": 50,
     "metadata": {},
     "output_type": "execute_result"
    }
   ],
   "source": [
    "%%sql\n",
    "-- SELECT specific columns\n",
    "SELECT first_name, last_name, email, city \n",
    "FROM customers;"
   ]
  },
  {
   "cell_type": "code",
   "execution_count": 55,
   "id": "8fd1f342-37b3-4ff5-a242-7f1ae1f49ac0",
   "metadata": {},
   "outputs": [
    {
     "name": "stdout",
     "output_type": "stream",
     "text": [
      "   sqlite:///SQLiteMagic.db\n",
      " * sqlite:///ecommerce.db\n",
      "Done.\n"
     ]
    },
    {
     "data": {
      "text/html": [
       "<table>\n",
       "    <thead>\n",
       "        <tr>\n",
       "            <th>product_name</th>\n",
       "            <th>price</th>\n",
       "        </tr>\n",
       "    </thead>\n",
       "    <tbody>\n",
       "        <tr>\n",
       "            <td>iPhone 14</td>\n",
       "            <td>999.99</td>\n",
       "        </tr>\n",
       "        <tr>\n",
       "            <td>Samsung Galaxy S23</td>\n",
       "            <td>899.99</td>\n",
       "        </tr>\n",
       "        <tr>\n",
       "            <td>Nike Air Max</td>\n",
       "            <td>129.99</td>\n",
       "        </tr>\n",
       "        <tr>\n",
       "            <td>Tennis Racket</td>\n",
       "            <td>159.99</td>\n",
       "        </tr>\n",
       "    </tbody>\n",
       "</table>"
      ],
      "text/plain": [
       "[('iPhone 14', 999.99),\n",
       " ('Samsung Galaxy S23', 899.99),\n",
       " ('Nike Air Max', 129.99),\n",
       " ('Tennis Racket', 159.99)]"
      ]
     },
     "execution_count": 55,
     "metadata": {},
     "output_type": "execute_result"
    }
   ],
   "source": [
    "%%sql\n",
    "-- SELECT with WHERE clause\n",
    "SELECT product_name, price \n",
    "FROM products \n",
    "WHERE price > 100;"
   ]
  },
  {
   "cell_type": "code",
   "execution_count": 56,
   "id": "4b58eb3e-19fa-4b1e-89ee-2668e6892620",
   "metadata": {},
   "outputs": [
    {
     "name": "stdout",
     "output_type": "stream",
     "text": [
      "   sqlite:///SQLiteMagic.db\n",
      " * sqlite:///ecommerce.db\n",
      "Done.\n"
     ]
    },
    {
     "data": {
      "text/html": [
       "<table>\n",
       "    <thead>\n",
       "        <tr>\n",
       "            <th>product_name</th>\n",
       "            <th>price</th>\n",
       "        </tr>\n",
       "    </thead>\n",
       "    <tbody>\n",
       "        <tr>\n",
       "            <td>iPhone 14</td>\n",
       "            <td>999.99</td>\n",
       "        </tr>\n",
       "        <tr>\n",
       "            <td>Samsung Galaxy S23</td>\n",
       "            <td>899.99</td>\n",
       "        </tr>\n",
       "        <tr>\n",
       "            <td>Tennis Racket</td>\n",
       "            <td>159.99</td>\n",
       "        </tr>\n",
       "        <tr>\n",
       "            <td>Nike Air Max</td>\n",
       "            <td>129.99</td>\n",
       "        </tr>\n",
       "        <tr>\n",
       "            <td>Levi Jeans</td>\n",
       "            <td>79.99</td>\n",
       "        </tr>\n",
       "        <tr>\n",
       "            <td>Python Programming Book</td>\n",
       "            <td>49.99</td>\n",
       "        </tr>\n",
       "        <tr>\n",
       "            <td>Garden Hose</td>\n",
       "            <td>39.99</td>\n",
       "        </tr>\n",
       "    </tbody>\n",
       "</table>"
      ],
      "text/plain": [
       "[('iPhone 14', 999.99),\n",
       " ('Samsung Galaxy S23', 899.99),\n",
       " ('Tennis Racket', 159.99),\n",
       " ('Nike Air Max', 129.99),\n",
       " ('Levi Jeans', 79.99),\n",
       " ('Python Programming Book', 49.99),\n",
       " ('Garden Hose', 39.99)]"
      ]
     },
     "execution_count": 56,
     "metadata": {},
     "output_type": "execute_result"
    }
   ],
   "source": [
    "%%sql\n",
    "-- SELECT with ORDER BY\n",
    "SELECT product_name, price \n",
    "FROM products \n",
    "ORDER BY price DESC; "
   ]
  },
  {
   "cell_type": "markdown",
   "id": "6aa25566-ee32-420b-a508-f9dd5af95fe4",
   "metadata": {},
   "source": [
    "#### Using advanced filtering techniques to find specific data based on multiple criteria."
   ]
  },
  {
   "cell_type": "code",
   "execution_count": 57,
   "id": "ea748576-8213-459e-b4df-f85473eab870",
   "metadata": {},
   "outputs": [
    {
     "name": "stdout",
     "output_type": "stream",
     "text": [
      "   sqlite:///SQLiteMagic.db\n",
      " * sqlite:///ecommerce.db\n",
      "Done.\n"
     ]
    },
    {
     "data": {
      "text/html": [
       "<table>\n",
       "    <thead>\n",
       "        <tr>\n",
       "            <th>customer_id</th>\n",
       "            <th>first_name</th>\n",
       "            <th>last_name</th>\n",
       "            <th>email</th>\n",
       "            <th>phone</th>\n",
       "            <th>city</th>\n",
       "            <th>state</th>\n",
       "            <th>country</th>\n",
       "            <th>registration_date</th>\n",
       "            <th>age</th>\n",
       "        </tr>\n",
       "    </thead>\n",
       "    <tbody>\n",
       "        <tr>\n",
       "            <td>2</td>\n",
       "            <td>Jane</td>\n",
       "            <td>Doe</td>\n",
       "            <td>jane.doe@email.com</td>\n",
       "            <td>555-0102</td>\n",
       "            <td>Los Angeles</td>\n",
       "            <td>CA</td>\n",
       "            <td>USA</td>\n",
       "            <td>2023-02-20</td>\n",
       "            <td>34</td>\n",
       "        </tr>\n",
       "    </tbody>\n",
       "</table>"
      ],
      "text/plain": [
       "[(2, 'Jane', 'Doe', 'jane.doe@email.com', '555-0102', 'Los Angeles', 'CA', 'USA', '2023-02-20', 34)]"
      ]
     },
     "execution_count": 57,
     "metadata": {},
     "output_type": "execute_result"
    }
   ],
   "source": [
    "%%sql\n",
    "-- Multiple conditions with AND/OR\n",
    "SELECT * FROM customers \n",
    "WHERE age > 30 AND state IN ('CA', 'NY', 'TX');\n"
   ]
  },
  {
   "cell_type": "code",
   "execution_count": 58,
   "id": "c8ae138c-719a-49d5-97fc-83a73d33c7f2",
   "metadata": {},
   "outputs": [
    {
     "name": "stdout",
     "output_type": "stream",
     "text": [
      "   sqlite:///SQLiteMagic.db\n",
      " * sqlite:///ecommerce.db\n",
      "Done.\n"
     ]
    },
    {
     "data": {
      "text/html": [
       "<table>\n",
       "    <thead>\n",
       "        <tr>\n",
       "            <th>customer_id</th>\n",
       "            <th>first_name</th>\n",
       "            <th>last_name</th>\n",
       "            <th>email</th>\n",
       "            <th>phone</th>\n",
       "            <th>city</th>\n",
       "            <th>state</th>\n",
       "            <th>country</th>\n",
       "            <th>registration_date</th>\n",
       "            <th>age</th>\n",
       "        </tr>\n",
       "    </thead>\n",
       "    <tbody>\n",
       "        <tr>\n",
       "            <td>1</td>\n",
       "            <td>John</td>\n",
       "            <td>Smith</td>\n",
       "            <td>john.smith@email.com</td>\n",
       "            <td>555-0101</td>\n",
       "            <td>New York</td>\n",
       "            <td>NY</td>\n",
       "            <td>USA</td>\n",
       "            <td>2023-01-15</td>\n",
       "            <td>28</td>\n",
       "        </tr>\n",
       "        <tr>\n",
       "            <td>2</td>\n",
       "            <td>Jane</td>\n",
       "            <td>Doe</td>\n",
       "            <td>jane.doe@email.com</td>\n",
       "            <td>555-0102</td>\n",
       "            <td>Los Angeles</td>\n",
       "            <td>CA</td>\n",
       "            <td>USA</td>\n",
       "            <td>2023-02-20</td>\n",
       "            <td>34</td>\n",
       "        </tr>\n",
       "        <tr>\n",
       "            <td>3</td>\n",
       "            <td>Mike</td>\n",
       "            <td>Johnson</td>\n",
       "            <td>mike.j@email.com</td>\n",
       "            <td>555-0103</td>\n",
       "            <td>Chicago</td>\n",
       "            <td>IL</td>\n",
       "            <td>USA</td>\n",
       "            <td>2023-03-10</td>\n",
       "            <td>41</td>\n",
       "        </tr>\n",
       "        <tr>\n",
       "            <td>4</td>\n",
       "            <td>Sarah</td>\n",
       "            <td>Wilson</td>\n",
       "            <td>sarah.w@email.com</td>\n",
       "            <td>555-0104</td>\n",
       "            <td>Houston</td>\n",
       "            <td>TX</td>\n",
       "            <td>USA</td>\n",
       "            <td>2023-01-25</td>\n",
       "            <td>29</td>\n",
       "        </tr>\n",
       "        <tr>\n",
       "            <td>5</td>\n",
       "            <td>David</td>\n",
       "            <td>Brown</td>\n",
       "            <td>david.b@email.com</td>\n",
       "            <td>555-0105</td>\n",
       "            <td>Phoenix</td>\n",
       "            <td>AZ</td>\n",
       "            <td>USA</td>\n",
       "            <td>2023-04-05</td>\n",
       "            <td>36</td>\n",
       "        </tr>\n",
       "    </tbody>\n",
       "</table>"
      ],
      "text/plain": [
       "[(1, 'John', 'Smith', 'john.smith@email.com', '555-0101', 'New York', 'NY', 'USA', '2023-01-15', 28),\n",
       " (2, 'Jane', 'Doe', 'jane.doe@email.com', '555-0102', 'Los Angeles', 'CA', 'USA', '2023-02-20', 34),\n",
       " (3, 'Mike', 'Johnson', 'mike.j@email.com', '555-0103', 'Chicago', 'IL', 'USA', '2023-03-10', 41),\n",
       " (4, 'Sarah', 'Wilson', 'sarah.w@email.com', '555-0104', 'Houston', 'TX', 'USA', '2023-01-25', 29),\n",
       " (5, 'David', 'Brown', 'david.b@email.com', '555-0105', 'Phoenix', 'AZ', 'USA', '2023-04-05', 36)]"
      ]
     },
     "execution_count": 58,
     "metadata": {},
     "output_type": "execute_result"
    }
   ],
   "source": [
    "%%sql\n",
    "-- LIKE operator for pattern matching\n",
    "SELECT * FROM customers \n",
    "WHERE email LIKE '%@email.com';"
   ]
  },
  {
   "cell_type": "code",
   "execution_count": 59,
   "id": "e75812c5-c581-4ce5-9776-d7db24acc0ce",
   "metadata": {},
   "outputs": [
    {
     "name": "stdout",
     "output_type": "stream",
     "text": [
      "   sqlite:///SQLiteMagic.db\n",
      " * sqlite:///ecommerce.db\n",
      "Done.\n"
     ]
    },
    {
     "data": {
      "text/html": [
       "<table>\n",
       "    <thead>\n",
       "        <tr>\n",
       "            <th>product_name</th>\n",
       "            <th>price</th>\n",
       "        </tr>\n",
       "    </thead>\n",
       "    <tbody>\n",
       "        <tr>\n",
       "            <td>Nike Air Max</td>\n",
       "            <td>129.99</td>\n",
       "        </tr>\n",
       "        <tr>\n",
       "            <td>Levi Jeans</td>\n",
       "            <td>79.99</td>\n",
       "        </tr>\n",
       "        <tr>\n",
       "            <td>Tennis Racket</td>\n",
       "            <td>159.99</td>\n",
       "        </tr>\n",
       "    </tbody>\n",
       "</table>"
      ],
      "text/plain": [
       "[('Nike Air Max', 129.99), ('Levi Jeans', 79.99), ('Tennis Racket', 159.99)]"
      ]
     },
     "execution_count": 59,
     "metadata": {},
     "output_type": "execute_result"
    }
   ],
   "source": [
    "%%sql\n",
    "-- BETWEEN operator\n",
    "\n",
    "SELECT product_name, price \n",
    "FROM products \n",
    "WHERE price BETWEEN 50 AND 200;"
   ]
  },
  {
   "cell_type": "markdown",
   "id": "adefed0b-53a7-4f5c-9bda-d23c00e3a0c6",
   "metadata": {},
   "source": [
    "Using mathematical functions to summarize and analyze our data - key for business reporting."
   ]
  },
  {
   "cell_type": "code",
   "execution_count": 60,
   "id": "551865e1-b599-482f-b30f-f0e02579764d",
   "metadata": {},
   "outputs": [
    {
     "name": "stdout",
     "output_type": "stream",
     "text": [
      "   sqlite:///SQLiteMagic.db\n",
      " * sqlite:///ecommerce.db\n",
      "Done.\n"
     ]
    },
    {
     "data": {
      "text/html": [
       "<table>\n",
       "    <thead>\n",
       "        <tr>\n",
       "            <th>total_products</th>\n",
       "            <th>avg_price</th>\n",
       "            <th>min_price</th>\n",
       "            <th>max_price</th>\n",
       "            <th>total_stock</th>\n",
       "        </tr>\n",
       "    </thead>\n",
       "    <tbody>\n",
       "        <tr>\n",
       "            <td>7</td>\n",
       "            <td>337.1328571428571</td>\n",
       "            <td>39.99</td>\n",
       "            <td>999.99</td>\n",
       "            <td>345</td>\n",
       "        </tr>\n",
       "    </tbody>\n",
       "</table>"
      ],
      "text/plain": [
       "[(7, 337.1328571428571, 39.99, 999.99, 345)]"
      ]
     },
     "execution_count": 60,
     "metadata": {},
     "output_type": "execute_result"
    }
   ],
   "source": [
    "%%sql\n",
    "-- COUNT, AVG, MIN, MAX, SUM\n",
    "\n",
    "SELECT \n",
    "    COUNT(*) as total_products,              -- How many products do we sell?\n",
    "    AVG(price) as avg_price,                 -- What's our average product price?\n",
    "    MIN(price) as min_price,                 -- What's our cheapest product?\n",
    "    MAX(price) as max_price,                 -- What's our most expensive product?\n",
    "    SUM(stock_quantity) as total_stock       -- How many total units do we have?\n",
    "FROM products;"
   ]
  },
  {
   "cell_type": "markdown",
   "id": "5be6b000-68b2-4027-964c-db807f22bb4b",
   "metadata": {},
   "source": [
    "Breaking down data into groups to analyze patterns and trends within categories."
   ]
  },
  {
   "cell_type": "code",
   "execution_count": 61,
   "id": "6b38daf6-33f3-405b-80ad-f207b3874048",
   "metadata": {},
   "outputs": [
    {
     "name": "stdout",
     "output_type": "stream",
     "text": [
      "   sqlite:///SQLiteMagic.db\n",
      " * sqlite:///ecommerce.db\n",
      "Done.\n"
     ]
    },
    {
     "data": {
      "text/html": [
       "<table>\n",
       "    <thead>\n",
       "        <tr>\n",
       "            <th>category_name</th>\n",
       "            <th>product_count</th>\n",
       "            <th>avg_price</th>\n",
       "            <th>total_stock</th>\n",
       "        </tr>\n",
       "    </thead>\n",
       "    <tbody>\n",
       "        <tr>\n",
       "            <td>Electronics</td>\n",
       "            <td>2</td>\n",
       "            <td>949.99</td>\n",
       "            <td>95</td>\n",
       "        </tr>\n",
       "        <tr>\n",
       "            <td>Sports</td>\n",
       "            <td>1</td>\n",
       "            <td>159.99</td>\n",
       "            <td>20</td>\n",
       "        </tr>\n",
       "        <tr>\n",
       "            <td>Clothing</td>\n",
       "            <td>2</td>\n",
       "            <td>104.99000000000001</td>\n",
       "            <td>175</td>\n",
       "        </tr>\n",
       "        <tr>\n",
       "            <td>Books</td>\n",
       "            <td>1</td>\n",
       "            <td>49.99</td>\n",
       "            <td>30</td>\n",
       "        </tr>\n",
       "        <tr>\n",
       "            <td>Home &amp; Garden</td>\n",
       "            <td>1</td>\n",
       "            <td>39.99</td>\n",
       "            <td>25</td>\n",
       "        </tr>\n",
       "    </tbody>\n",
       "</table>"
      ],
      "text/plain": [
       "[('Electronics', 2, 949.99, 95),\n",
       " ('Sports', 1, 159.99, 20),\n",
       " ('Clothing', 2, 104.99000000000001, 175),\n",
       " ('Books', 1, 49.99, 30),\n",
       " ('Home & Garden', 1, 39.99, 25)]"
      ]
     },
     "execution_count": 61,
     "metadata": {},
     "output_type": "execute_result"
    }
   ],
   "source": [
    "%%sql\n",
    "-- Group by category\n",
    "\n",
    "SELECT \n",
    "    c.category_name,                         -- Group identifier\n",
    "    COUNT(p.product_id) as product_count,    -- How many products in each category?\n",
    "    AVG(p.price) as avg_price,               -- Whats the average price per category?\n",
    "    SUM(p.stock_quantity) as total_stock     -- How much inventory per category?\n",
    "FROM products p\n",
    "JOIN categories c ON p.category_id = c.category_id    -- Connect products to their categories\n",
    "GROUP BY c.category_name                     -- Create separate calculations for each category\n",
    "HAVING COUNT(p.product_id) > 0             -- HAVING filters groups (vs WHERE filters rows)\n",
    "ORDER BY avg_price DESC;  "
   ]
  },
  {
   "cell_type": "code",
   "execution_count": 62,
   "id": "7f67b939-fc38-43a6-9a38-fa7f8a1c0a59",
   "metadata": {},
   "outputs": [
    {
     "name": "stdout",
     "output_type": "stream",
     "text": [
      "   sqlite:///SQLiteMagic.db\n",
      " * sqlite:///ecommerce.db\n",
      "Done.\n"
     ]
    },
    {
     "data": {
      "text/html": [
       "<table>\n",
       "    <thead>\n",
       "        <tr>\n",
       "            <th>customer_name</th>\n",
       "            <th>total_orders</th>\n",
       "            <th>total_spent</th>\n",
       "            <th>avg_order_value</th>\n",
       "        </tr>\n",
       "    </thead>\n",
       "    <tbody>\n",
       "        <tr>\n",
       "            <td>John Smith</td>\n",
       "            <td>2</td>\n",
       "            <td>1129.97</td>\n",
       "            <td>564.985</td>\n",
       "        </tr>\n",
       "        <tr>\n",
       "            <td>Jane Doe</td>\n",
       "            <td>1</td>\n",
       "            <td>209.98</td>\n",
       "            <td>209.98</td>\n",
       "        </tr>\n",
       "        <tr>\n",
       "            <td>Mike Johnson</td>\n",
       "            <td>1</td>\n",
       "            <td>159.99</td>\n",
       "            <td>159.99</td>\n",
       "        </tr>\n",
       "        <tr>\n",
       "            <td>Sarah Wilson</td>\n",
       "            <td>1</td>\n",
       "            <td>89.98</td>\n",
       "            <td>89.98</td>\n",
       "        </tr>\n",
       "        <tr>\n",
       "            <td>David Brown</td>\n",
       "            <td>0</td>\n",
       "            <td>None</td>\n",
       "            <td>None</td>\n",
       "        </tr>\n",
       "    </tbody>\n",
       "</table>"
      ],
      "text/plain": [
       "[('John Smith', 2, 1129.97, 564.985),\n",
       " ('Jane Doe', 1, 209.98, 209.98),\n",
       " ('Mike Johnson', 1, 159.99, 159.99),\n",
       " ('Sarah Wilson', 1, 89.98, 89.98),\n",
       " ('David Brown', 0, None, None)]"
      ]
     },
     "execution_count": 62,
     "metadata": {},
     "output_type": "execute_result"
    }
   ],
   "source": [
    "%%sql\n",
    "-- Customer order statistics\n",
    "\n",
    "SELECT \n",
    "    c.first_name || ' ' || c.last_name as customer_name,  -- Concatenate first and last name\n",
    "    COUNT(o.order_id) as total_orders,                    -- How many orders per customer?\n",
    "    SUM(o.total_amount) as total_spent,                   -- Total money spent per customer\n",
    "    AVG(o.total_amount) as avg_order_value                -- Average order size per customer\n",
    "FROM customers c\n",
    "LEFT JOIN orders o ON c.customer_id = o.customer_id      -- LEFT JOIN includes all customers\n",
    "GROUP BY c.customer_id, customer_name                     -- Group by each customer\n",
    "ORDER BY total_spent DESC;   "
   ]
  },
  {
   "cell_type": "markdown",
   "id": "f939ab44-843e-480e-b042-fee0bbd9abe5",
   "metadata": {},
   "source": [
    "Connecting multiple tables to create comprehensive business reports that show relationships across our entire database."
   ]
  },
  {
   "cell_type": "code",
   "execution_count": 63,
   "id": "cc9cb809-bf3c-4d31-b4fd-da1d7901663d",
   "metadata": {},
   "outputs": [
    {
     "name": "stdout",
     "output_type": "stream",
     "text": [
      "   sqlite:///SQLiteMagic.db\n",
      " * sqlite:///ecommerce.db\n",
      "Done.\n"
     ]
    },
    {
     "data": {
      "text/html": [
       "<table>\n",
       "    <thead>\n",
       "        <tr>\n",
       "            <th>order_id</th>\n",
       "            <th>customer_name</th>\n",
       "            <th>email</th>\n",
       "            <th>order_date</th>\n",
       "            <th>product_name</th>\n",
       "            <th>category_name</th>\n",
       "            <th>quantity</th>\n",
       "            <th>unit_price</th>\n",
       "            <th>line_total</th>\n",
       "        </tr>\n",
       "    </thead>\n",
       "    <tbody>\n",
       "        <tr>\n",
       "            <td>5</td>\n",
       "            <td>Sarah Wilson</td>\n",
       "            <td>sarah.w@email.com</td>\n",
       "            <td>2024-03-01</td>\n",
       "            <td>Python Programming Book</td>\n",
       "            <td>Books</td>\n",
       "            <td>1</td>\n",
       "            <td>49.99</td>\n",
       "            <td>49.99</td>\n",
       "        </tr>\n",
       "        <tr>\n",
       "            <td>5</td>\n",
       "            <td>Sarah Wilson</td>\n",
       "            <td>sarah.w@email.com</td>\n",
       "            <td>2024-03-01</td>\n",
       "            <td>Garden Hose</td>\n",
       "            <td>Home &amp; Garden</td>\n",
       "            <td>1</td>\n",
       "            <td>39.99</td>\n",
       "            <td>39.99</td>\n",
       "        </tr>\n",
       "        <tr>\n",
       "            <td>4</td>\n",
       "            <td>John Smith</td>\n",
       "            <td>john.smith@email.com</td>\n",
       "            <td>2024-02-15</td>\n",
       "            <td>Levi Jeans</td>\n",
       "            <td>Clothing</td>\n",
       "            <td>1</td>\n",
       "            <td>79.99</td>\n",
       "            <td>79.99</td>\n",
       "        </tr>\n",
       "        <tr>\n",
       "            <td>3</td>\n",
       "            <td>Mike Johnson</td>\n",
       "            <td>mike.j@email.com</td>\n",
       "            <td>2024-02-01</td>\n",
       "            <td>Tennis Racket</td>\n",
       "            <td>Sports</td>\n",
       "            <td>1</td>\n",
       "            <td>159.99</td>\n",
       "            <td>159.99</td>\n",
       "        </tr>\n",
       "        <tr>\n",
       "            <td>2</td>\n",
       "            <td>Jane Doe</td>\n",
       "            <td>jane.doe@email.com</td>\n",
       "            <td>2024-01-20</td>\n",
       "            <td>Nike Air Max</td>\n",
       "            <td>Clothing</td>\n",
       "            <td>1</td>\n",
       "            <td>129.99</td>\n",
       "            <td>129.99</td>\n",
       "        </tr>\n",
       "        <tr>\n",
       "            <td>2</td>\n",
       "            <td>Jane Doe</td>\n",
       "            <td>jane.doe@email.com</td>\n",
       "            <td>2024-01-20</td>\n",
       "            <td>Levi Jeans</td>\n",
       "            <td>Clothing</td>\n",
       "            <td>1</td>\n",
       "            <td>79.99</td>\n",
       "            <td>79.99</td>\n",
       "        </tr>\n",
       "        <tr>\n",
       "            <td>1</td>\n",
       "            <td>John Smith</td>\n",
       "            <td>john.smith@email.com</td>\n",
       "            <td>2024-01-15</td>\n",
       "            <td>iPhone 14</td>\n",
       "            <td>Electronics</td>\n",
       "            <td>1</td>\n",
       "            <td>999.99</td>\n",
       "            <td>999.99</td>\n",
       "        </tr>\n",
       "        <tr>\n",
       "            <td>1</td>\n",
       "            <td>John Smith</td>\n",
       "            <td>john.smith@email.com</td>\n",
       "            <td>2024-01-15</td>\n",
       "            <td>Nike Air Max</td>\n",
       "            <td>Clothing</td>\n",
       "            <td>1</td>\n",
       "            <td>49.99</td>\n",
       "            <td>49.99</td>\n",
       "        </tr>\n",
       "    </tbody>\n",
       "</table>"
      ],
      "text/plain": [
       "[(5, 'Sarah Wilson', 'sarah.w@email.com', '2024-03-01', 'Python Programming Book', 'Books', 1, 49.99, 49.99),\n",
       " (5, 'Sarah Wilson', 'sarah.w@email.com', '2024-03-01', 'Garden Hose', 'Home & Garden', 1, 39.99, 39.99),\n",
       " (4, 'John Smith', 'john.smith@email.com', '2024-02-15', 'Levi Jeans', 'Clothing', 1, 79.99, 79.99),\n",
       " (3, 'Mike Johnson', 'mike.j@email.com', '2024-02-01', 'Tennis Racket', 'Sports', 1, 159.99, 159.99),\n",
       " (2, 'Jane Doe', 'jane.doe@email.com', '2024-01-20', 'Nike Air Max', 'Clothing', 1, 129.99, 129.99),\n",
       " (2, 'Jane Doe', 'jane.doe@email.com', '2024-01-20', 'Levi Jeans', 'Clothing', 1, 79.99, 79.99),\n",
       " (1, 'John Smith', 'john.smith@email.com', '2024-01-15', 'iPhone 14', 'Electronics', 1, 999.99, 999.99),\n",
       " (1, 'John Smith', 'john.smith@email.com', '2024-01-15', 'Nike Air Max', 'Clothing', 1, 49.99, 49.99)]"
      ]
     },
     "execution_count": 63,
     "metadata": {},
     "output_type": "execute_result"
    }
   ],
   "source": [
    "%%sql\n",
    "-- Multiple table JOIN with detailed order information\n",
    "\n",
    "SELECT \n",
    "    o.order_id,                                           -- Order reference number\n",
    "    c.first_name || ' ' || c.last_name as customer_name,  -- Who placed the order?\n",
    "    c.email,                                              -- Customer contact info\n",
    "    o.order_date,                                         -- When was it ordered?\n",
    "    p.product_name,                                       -- What products were ordered?\n",
    "    cat.category_name,                                    -- What category is each product in?\n",
    "    oi.quantity,                                          -- How many of each product?\n",
    "    oi.unit_price,                                        -- Price per unit at time of purchase\n",
    "    (oi.quantity * oi.unit_price) as line_total           -- Total for this product line\n",
    "FROM orders o                                             -- Start with orders table\n",
    "JOIN customers c ON o.customer_id = c.customer_id         -- Add customer details\n",
    "JOIN order_items oi ON o.order_id = oi.order_id          -- Add individual products in order\n",
    "JOIN products p ON oi.product_id = p.product_id          -- Add product details\n",
    "JOIN categories cat ON p.category_id = cat.category_id   -- Add category information\n",
    "ORDER BY o.order_date DESC, o.order_id; "
   ]
  },
  {
   "cell_type": "markdown",
   "id": "517173fe-06b9-4a85-864b-0fd5099e1833",
   "metadata": {},
   "source": []
  },
  {
   "cell_type": "code",
   "execution_count": 66,
   "id": "d5ee798e-e9a1-4b08-bc57-d238bd7fb807",
   "metadata": {},
   "outputs": [
    {
     "name": "stdout",
     "output_type": "stream",
     "text": [
      "   sqlite:///SQLiteMagic.db\n",
      " * sqlite:///ecommerce.db\n",
      "Done.\n"
     ]
    },
    {
     "data": {
      "text/html": [
       "<table>\n",
       "    <thead>\n",
       "        <tr>\n",
       "            <th>customer_name</th>\n",
       "            <th>total_spent</th>\n",
       "        </tr>\n",
       "    </thead>\n",
       "    <tbody>\n",
       "        <tr>\n",
       "            <td>John Smith</td>\n",
       "            <td>1129.97</td>\n",
       "        </tr>\n",
       "    </tbody>\n",
       "</table>"
      ],
      "text/plain": [
       "[('John Smith', 1129.97)]"
      ]
     },
     "execution_count": 66,
     "metadata": {},
     "output_type": "execute_result"
    }
   ],
   "source": [
    "%%sql\n",
    "-- Customers who spent more than average\n",
    "-- Purpose: Identify high-value customers who spend above the average customer spending\n",
    "SELECT \n",
    "    c.first_name || ' ' || c.last_name as customer_name,\n",
    "    total_spent\n",
    "FROM (\n",
    "    -- Inner subquery: Calculate total spending per customer\n",
    "    SELECT \n",
    "        c.customer_id,\n",
    "        c.first_name,\n",
    "        c.last_name,\n",
    "        COALESCE(SUM(o.total_amount), 0) as total_spent    -- COALESCE handles customers with no orders\n",
    "    FROM customers c\n",
    "    LEFT JOIN orders o ON c.customer_id = o.customer_id   -- Include all customers\n",
    "    GROUP BY c.customer_id, c.first_name, c.last_name     -- Group by each customer\n",
    ") customer_totals                                          -- Alias for the subquery result\n",
    "JOIN customers c ON customer_totals.customer_id = c.customer_id\n",
    "WHERE total_spent > (\n",
    "    -- Nested subquery: Calculate the average customer spending\n",
    "    SELECT AVG(customer_total)\n",
    "    FROM (\n",
    "        SELECT COALESCE(SUM(total_amount), 0) as customer_total\n",
    "        FROM customers c2\n",
    "        LEFT JOIN orders o2 ON c2.customer_id = o2.customer_id\n",
    "        GROUP BY c2.customer_id\n",
    "    )\n",
    ");\n"
   ]
  },
  {
   "cell_type": "code",
   "execution_count": 67,
   "id": "715de444-3830-458d-a7f2-a4de03d03ca8",
   "metadata": {},
   "outputs": [
    {
     "name": "stdout",
     "output_type": "stream",
     "text": [
      "   sqlite:///SQLiteMagic.db\n",
      " * sqlite:///ecommerce.db\n",
      "Done.\n"
     ]
    },
    {
     "data": {
      "text/html": [
       "<table>\n",
       "    <thead>\n",
       "        <tr>\n",
       "            <th>product_name</th>\n",
       "            <th>category_name</th>\n",
       "            <th>price</th>\n",
       "            <th>price_rank</th>\n",
       "            <th>dense_price_rank</th>\n",
       "            <th>row_num</th>\n",
       "        </tr>\n",
       "    </thead>\n",
       "    <tbody>\n",
       "        <tr>\n",
       "            <td>Python Programming Book</td>\n",
       "            <td>Books</td>\n",
       "            <td>49.99</td>\n",
       "            <td>1</td>\n",
       "            <td>1</td>\n",
       "            <td>1</td>\n",
       "        </tr>\n",
       "        <tr>\n",
       "            <td>Nike Air Max</td>\n",
       "            <td>Clothing</td>\n",
       "            <td>129.99</td>\n",
       "            <td>1</td>\n",
       "            <td>1</td>\n",
       "            <td>1</td>\n",
       "        </tr>\n",
       "        <tr>\n",
       "            <td>Levi Jeans</td>\n",
       "            <td>Clothing</td>\n",
       "            <td>79.99</td>\n",
       "            <td>2</td>\n",
       "            <td>2</td>\n",
       "            <td>2</td>\n",
       "        </tr>\n",
       "        <tr>\n",
       "            <td>iPhone 14</td>\n",
       "            <td>Electronics</td>\n",
       "            <td>999.99</td>\n",
       "            <td>1</td>\n",
       "            <td>1</td>\n",
       "            <td>1</td>\n",
       "        </tr>\n",
       "        <tr>\n",
       "            <td>Samsung Galaxy S23</td>\n",
       "            <td>Electronics</td>\n",
       "            <td>899.99</td>\n",
       "            <td>2</td>\n",
       "            <td>2</td>\n",
       "            <td>2</td>\n",
       "        </tr>\n",
       "        <tr>\n",
       "            <td>Garden Hose</td>\n",
       "            <td>Home &amp; Garden</td>\n",
       "            <td>39.99</td>\n",
       "            <td>1</td>\n",
       "            <td>1</td>\n",
       "            <td>1</td>\n",
       "        </tr>\n",
       "        <tr>\n",
       "            <td>Tennis Racket</td>\n",
       "            <td>Sports</td>\n",
       "            <td>159.99</td>\n",
       "            <td>1</td>\n",
       "            <td>1</td>\n",
       "            <td>1</td>\n",
       "        </tr>\n",
       "    </tbody>\n",
       "</table>"
      ],
      "text/plain": [
       "[('Python Programming Book', 'Books', 49.99, 1, 1, 1),\n",
       " ('Nike Air Max', 'Clothing', 129.99, 1, 1, 1),\n",
       " ('Levi Jeans', 'Clothing', 79.99, 2, 2, 2),\n",
       " ('iPhone 14', 'Electronics', 999.99, 1, 1, 1),\n",
       " ('Samsung Galaxy S23', 'Electronics', 899.99, 2, 2, 2),\n",
       " ('Garden Hose', 'Home & Garden', 39.99, 1, 1, 1),\n",
       " ('Tennis Racket', 'Sports', 159.99, 1, 1, 1)]"
      ]
     },
     "execution_count": 67,
     "metadata": {},
     "output_type": "execute_result"
    }
   ],
   "source": [
    "%%sql\n",
    "-- Product ranking by price within categories\n",
    "SELECT \n",
    "    p.product_name,\n",
    "    c.category_name,\n",
    "    p.price,\n",
    "    RANK() OVER (PARTITION BY c.category_name ORDER BY p.price DESC) as price_rank,\n",
    "    DENSE_RANK() OVER (PARTITION BY c.category_name ORDER BY p.price DESC) as dense_price_rank,\n",
    "    ROW_NUMBER() OVER (PARTITION BY c.category_name ORDER BY p.price DESC) as row_num\n",
    "FROM products p\n",
    "JOIN categories c ON p.category_id = c.category_id\n",
    "ORDER BY c.category_name, p.price DESC;"
   ]
  },
  {
   "cell_type": "code",
   "execution_count": 68,
   "id": "cb6186ff-571b-4ce6-b657-9715ef329af6",
   "metadata": {},
   "outputs": [
    {
     "name": "stdout",
     "output_type": "stream",
     "text": [
      "   sqlite:///SQLiteMagic.db\n",
      " * sqlite:///ecommerce.db\n",
      "Done.\n"
     ]
    },
    {
     "data": {
      "text/html": [
       "<table>\n",
       "    <thead>\n",
       "        <tr>\n",
       "            <th>order_date</th>\n",
       "            <th>total_amount</th>\n",
       "            <th>running_total</th>\n",
       "            <th>moving_avg_3</th>\n",
       "        </tr>\n",
       "    </thead>\n",
       "    <tbody>\n",
       "        <tr>\n",
       "            <td>2024-01-15</td>\n",
       "            <td>1049.98</td>\n",
       "            <td>1049.98</td>\n",
       "            <td>1049.98</td>\n",
       "        </tr>\n",
       "        <tr>\n",
       "            <td>2024-01-20</td>\n",
       "            <td>209.98</td>\n",
       "            <td>1259.96</td>\n",
       "            <td>629.98</td>\n",
       "        </tr>\n",
       "        <tr>\n",
       "            <td>2024-02-01</td>\n",
       "            <td>159.99</td>\n",
       "            <td>1419.95</td>\n",
       "            <td>473.31666666666666</td>\n",
       "        </tr>\n",
       "        <tr>\n",
       "            <td>2024-02-15</td>\n",
       "            <td>79.99</td>\n",
       "            <td>1499.94</td>\n",
       "            <td>149.98666666666665</td>\n",
       "        </tr>\n",
       "        <tr>\n",
       "            <td>2024-03-01</td>\n",
       "            <td>89.98</td>\n",
       "            <td>1589.92</td>\n",
       "            <td>109.98666666666668</td>\n",
       "        </tr>\n",
       "    </tbody>\n",
       "</table>"
      ],
      "text/plain": [
       "[('2024-01-15', 1049.98, 1049.98, 1049.98),\n",
       " ('2024-01-20', 209.98, 1259.96, 629.98),\n",
       " ('2024-02-01', 159.99, 1419.95, 473.31666666666666),\n",
       " ('2024-02-15', 79.99, 1499.94, 149.98666666666665),\n",
       " ('2024-03-01', 89.98, 1589.92, 109.98666666666668)]"
      ]
     },
     "execution_count": 68,
     "metadata": {},
     "output_type": "execute_result"
    }
   ],
   "source": [
    "%%sql\n",
    "-- Running total of orders by date\n",
    "SELECT \n",
    "    order_date,\n",
    "    total_amount,\n",
    "    SUM(total_amount) OVER (ORDER BY order_date ROWS UNBOUNDED PRECEDING) as running_total,\n",
    "    AVG(total_amount) OVER (ORDER BY order_date ROWS 2 PRECEDING) as moving_avg_3\n",
    "FROM orders\n",
    "ORDER BY order_date;"
   ]
  },
  {
   "cell_type": "markdown",
   "id": "e7eebc1e-dbe6-43fc-8e6e-ed3e936b7183",
   "metadata": {},
   "source": [
    "### Product Performance Analysis"
   ]
  },
  {
   "cell_type": "code",
   "execution_count": 69,
   "id": "622db83c-97e8-4fb4-9847-5e8b16beace7",
   "metadata": {},
   "outputs": [
    {
     "name": "stdout",
     "output_type": "stream",
     "text": [
      "   sqlite:///SQLiteMagic.db\n",
      " * sqlite:///ecommerce.db\n",
      "Done.\n"
     ]
    },
    {
     "data": {
      "text/html": [
       "<table>\n",
       "    <thead>\n",
       "        <tr>\n",
       "            <th>product_name</th>\n",
       "            <th>category_name</th>\n",
       "            <th>price</th>\n",
       "            <th>cost</th>\n",
       "            <th>profit_per_unit</th>\n",
       "            <th>profit_margin_pct</th>\n",
       "            <th>total_sold</th>\n",
       "            <th>total_profit</th>\n",
       "            <th>current_stock</th>\n",
       "        </tr>\n",
       "    </thead>\n",
       "    <tbody>\n",
       "        <tr>\n",
       "            <td>iPhone 14</td>\n",
       "            <td>Electronics</td>\n",
       "            <td>999.99</td>\n",
       "            <td>700</td>\n",
       "            <td>299.99</td>\n",
       "            <td>30.0</td>\n",
       "            <td>1</td>\n",
       "            <td>299.99</td>\n",
       "            <td>50</td>\n",
       "        </tr>\n",
       "        <tr>\n",
       "            <td>Nike Air Max</td>\n",
       "            <td>Clothing</td>\n",
       "            <td>129.99</td>\n",
       "            <td>80</td>\n",
       "            <td>49.99000000000001</td>\n",
       "            <td>38.46</td>\n",
       "            <td>2</td>\n",
       "            <td>99.98000000000002</td>\n",
       "            <td>100</td>\n",
       "        </tr>\n",
       "        <tr>\n",
       "            <td>Levi Jeans</td>\n",
       "            <td>Clothing</td>\n",
       "            <td>79.99</td>\n",
       "            <td>40</td>\n",
       "            <td>39.989999999999995</td>\n",
       "            <td>49.99</td>\n",
       "            <td>2</td>\n",
       "            <td>79.97999999999999</td>\n",
       "            <td>75</td>\n",
       "        </tr>\n",
       "        <tr>\n",
       "            <td>Tennis Racket</td>\n",
       "            <td>Sports</td>\n",
       "            <td>159.99</td>\n",
       "            <td>90</td>\n",
       "            <td>69.99000000000001</td>\n",
       "            <td>43.75</td>\n",
       "            <td>1</td>\n",
       "            <td>69.99000000000001</td>\n",
       "            <td>20</td>\n",
       "        </tr>\n",
       "        <tr>\n",
       "            <td>Python Programming Book</td>\n",
       "            <td>Books</td>\n",
       "            <td>49.99</td>\n",
       "            <td>25</td>\n",
       "            <td>24.990000000000002</td>\n",
       "            <td>49.99</td>\n",
       "            <td>1</td>\n",
       "            <td>24.990000000000002</td>\n",
       "            <td>30</td>\n",
       "        </tr>\n",
       "        <tr>\n",
       "            <td>Garden Hose</td>\n",
       "            <td>Home &amp; Garden</td>\n",
       "            <td>39.99</td>\n",
       "            <td>20</td>\n",
       "            <td>19.990000000000002</td>\n",
       "            <td>49.99</td>\n",
       "            <td>1</td>\n",
       "            <td>19.990000000000002</td>\n",
       "            <td>25</td>\n",
       "        </tr>\n",
       "        <tr>\n",
       "            <td>Samsung Galaxy S23</td>\n",
       "            <td>Electronics</td>\n",
       "            <td>899.99</td>\n",
       "            <td>650</td>\n",
       "            <td>249.99</td>\n",
       "            <td>27.78</td>\n",
       "            <td>0</td>\n",
       "            <td>0</td>\n",
       "            <td>45</td>\n",
       "        </tr>\n",
       "    </tbody>\n",
       "</table>"
      ],
      "text/plain": [
       "[('iPhone 14', 'Electronics', 999.99, 700, 299.99, 30.0, 1, 299.99, 50),\n",
       " ('Nike Air Max', 'Clothing', 129.99, 80, 49.99000000000001, 38.46, 2, 99.98000000000002, 100),\n",
       " ('Levi Jeans', 'Clothing', 79.99, 40, 39.989999999999995, 49.99, 2, 79.97999999999999, 75),\n",
       " ('Tennis Racket', 'Sports', 159.99, 90, 69.99000000000001, 43.75, 1, 69.99000000000001, 20),\n",
       " ('Python Programming Book', 'Books', 49.99, 25, 24.990000000000002, 49.99, 1, 24.990000000000002, 30),\n",
       " ('Garden Hose', 'Home & Garden', 39.99, 20, 19.990000000000002, 49.99, 1, 19.990000000000002, 25),\n",
       " ('Samsung Galaxy S23', 'Electronics', 899.99, 650, 249.99, 27.78, 0, 0, 45)]"
      ]
     },
     "execution_count": 69,
     "metadata": {},
     "output_type": "execute_result"
    }
   ],
   "source": [
    "%%sql\n",
    "-- Product performance with profit margins\n",
    "SELECT \n",
    "    p.product_name,\n",
    "    c.category_name,\n",
    "    p.price,\n",
    "    p.cost,\n",
    "    (p.price - p.cost) as profit_per_unit,\n",
    "    ROUND(((p.price - p.cost) * 100.0 / p.price), 2) as profit_margin_pct,\n",
    "    COALESCE(SUM(oi.quantity), 0) as total_sold,\n",
    "    COALESCE(SUM(oi.quantity * (p.price - p.cost)), 0) as total_profit,\n",
    "    p.stock_quantity as current_stock\n",
    "FROM products p\n",
    "JOIN categories c ON p.category_id = c.category_id\n",
    "LEFT JOIN order_items oi ON p.product_id = oi.product_id\n",
    "GROUP BY p.product_id, p.product_name, c.category_name, p.price, p.cost, p.stock_quantity\n",
    "ORDER BY total_profit DESC;"
   ]
  },
  {
   "cell_type": "code",
   "execution_count": 70,
   "id": "ff48e44e-a905-4157-bb93-62e70574fd86",
   "metadata": {},
   "outputs": [
    {
     "name": "stdout",
     "output_type": "stream",
     "text": [
      "   sqlite:///SQLiteMagic.db\n",
      " * sqlite:///ecommerce.db\n",
      "Done.\n"
     ]
    },
    {
     "data": {
      "text/html": [
       "<table>\n",
       "    <thead>\n",
       "        <tr>\n",
       "            <th>check_type</th>\n",
       "            <th>count</th>\n",
       "        </tr>\n",
       "    </thead>\n",
       "    <tbody>\n",
       "        <tr>\n",
       "            <td>Customers with invalid emails</td>\n",
       "            <td>0</td>\n",
       "        </tr>\n",
       "        <tr>\n",
       "            <td>Products with price &lt;= cost</td>\n",
       "            <td>0</td>\n",
       "        </tr>\n",
       "        <tr>\n",
       "            <td>Orders with zero total</td>\n",
       "            <td>0</td>\n",
       "        </tr>\n",
       "        <tr>\n",
       "            <td>Negative stock quantities</td>\n",
       "            <td>0</td>\n",
       "        </tr>\n",
       "    </tbody>\n",
       "</table>"
      ],
      "text/plain": [
       "[('Customers with invalid emails', 0),\n",
       " ('Products with price <= cost', 0),\n",
       " ('Orders with zero total', 0),\n",
       " ('Negative stock quantities', 0)]"
      ]
     },
     "execution_count": 70,
     "metadata": {},
     "output_type": "execute_result"
    }
   ],
   "source": [
    "%%sql\n",
    "-- Check for data inconsistencies\n",
    "SELECT 'Customers with invalid emails' as check_type, COUNT(*) as count\n",
    "FROM customers \n",
    "WHERE email NOT LIKE '%@%.%'\n",
    "\n",
    "UNION ALL\n",
    "\n",
    "SELECT 'Products with price <= cost', COUNT(*)\n",
    "FROM products \n",
    "WHERE price <= cost\n",
    "\n",
    "UNION ALL\n",
    "\n",
    "SELECT 'Orders with zero total', COUNT(*)\n",
    "FROM orders \n",
    "WHERE total_amount <= 0\n",
    "\n",
    "UNION ALL\n",
    "\n",
    "SELECT 'Negative stock quantities', COUNT(*)\n",
    "FROM products \n",
    "WHERE stock_quantity < 0;"
   ]
  },
  {
   "cell_type": "markdown",
   "id": "e965f2ee-3991-4483-9897-8f2129aad104",
   "metadata": {},
   "source": [
    "### Database Statistics"
   ]
  },
  {
   "cell_type": "code",
   "execution_count": 71,
   "id": "3057a4dc-6208-4cbc-956f-0a7427aa89ed",
   "metadata": {},
   "outputs": [
    {
     "name": "stdout",
     "output_type": "stream",
     "text": [
      "   sqlite:///SQLiteMagic.db\n",
      " * sqlite:///ecommerce.db\n",
      "Done.\n"
     ]
    },
    {
     "data": {
      "text/html": [
       "<table>\n",
       "    <thead>\n",
       "        <tr>\n",
       "            <th>table_name</th>\n",
       "            <th>record_count</th>\n",
       "        </tr>\n",
       "    </thead>\n",
       "    <tbody>\n",
       "        <tr>\n",
       "            <td>customers</td>\n",
       "            <td>5</td>\n",
       "        </tr>\n",
       "        <tr>\n",
       "            <td>products</td>\n",
       "            <td>7</td>\n",
       "        </tr>\n",
       "        <tr>\n",
       "            <td>orders</td>\n",
       "            <td>5</td>\n",
       "        </tr>\n",
       "        <tr>\n",
       "            <td>order_items</td>\n",
       "            <td>8</td>\n",
       "        </tr>\n",
       "        <tr>\n",
       "            <td>categories</td>\n",
       "            <td>5</td>\n",
       "        </tr>\n",
       "    </tbody>\n",
       "</table>"
      ],
      "text/plain": [
       "[('customers', 5),\n",
       " ('products', 7),\n",
       " ('orders', 5),\n",
       " ('order_items', 8),\n",
       " ('categories', 5)]"
      ]
     },
     "execution_count": 71,
     "metadata": {},
     "output_type": "execute_result"
    }
   ],
   "source": [
    "%%sql\n",
    "-- Database summary statistics\n",
    "SELECT \n",
    "    'customers' as table_name, COUNT(*) as record_count \n",
    "FROM customers\n",
    "UNION ALL\n",
    "SELECT 'products', COUNT(*) FROM products\n",
    "UNION ALL\n",
    "SELECT 'orders', COUNT(*) FROM orders\n",
    "UNION ALL\n",
    "SELECT 'order_items', COUNT(*) FROM order_items\n",
    "UNION ALL\n",
    "SELECT 'categories', COUNT(*) FROM categories;"
   ]
  },
  {
   "cell_type": "code",
   "execution_count": 72,
   "id": "c6d77a17-b34c-43bb-9863-5737917e67a2",
   "metadata": {},
   "outputs": [
    {
     "name": "stdout",
     "output_type": "stream",
     "text": [
      "   sqlite:///SQLiteMagic.db\n",
      " * sqlite:///ecommerce.db\n",
      "Done.\n",
      "   sqlite:///SQLiteMagic.db\n",
      " * sqlite:///ecommerce.db\n",
      "Done.\n"
     ]
    },
    {
     "data": {
      "image/png": "[encoded data removed]",
      "text/plain": [
       "<Figure size 1200x600 with 2 Axes>"
      ]
     },
     "metadata": {},
     "output_type": "display_data"
    }
   ],
   "source": [
    "# Query data for visualization\n",
    "df_sales = %sql SELECT strftime('%Y-%m', order_date) as month, SUM(total_amount) as revenue FROM orders GROUP BY month ORDER BY month\n",
    "\n",
    "# Convert to pandas DataFrame\n",
    "df_sales = df_sales.DataFrame()\n",
    "\n",
    "# Create visualization\n",
    "plt.figure(figsize=(12, 6))\n",
    "plt.subplot(1, 2, 1)\n",
    "plt.plot(df_sales['month'], df_sales['revenue'], marker='o')\n",
    "plt.title('Monthly Revenue Trend')\n",
    "plt.xticks(rotation=45)\n",
    "plt.ylabel('Revenue ($)')\n",
    "\n",
    "# Category performance\n",
    "df_category = %sql SELECT c.category_name, COUNT(oi.order_item_id) as items_sold, SUM(oi.quantity * oi.unit_price) as revenue FROM categories c JOIN products p ON c.category_id = p.category_id JOIN order_items oi ON p.product_id = oi.product_id GROUP BY c.category_name\n",
    "\n",
    "df_category = df_category.DataFrame()\n",
    "\n",
    "plt.subplot(1, 2, 2)\n",
    "plt.pie(df_category['revenue'], labels=df_category['category_name'], autopct='%1.1f%%')\n",
    "plt.title('Revenue by Category')\n",
    "\n",
    "plt.tight_layout()\n",
    "plt.show()"
   ]
  },
  {
   "cell_type": "code",
   "execution_count": 73,
   "id": "3ef819cc-6c6b-4c76-9cda-45f9a3485b3b",
   "metadata": {},
   "outputs": [
    {
     "name": "stdout",
     "output_type": "stream",
     "text": [
      "   sqlite:///SQLiteMagic.db\n",
      " * sqlite:///ecommerce.db\n",
      "Done.\n",
      "Done.\n",
      "Done.\n",
      "Done.\n",
      "Done.\n",
      "Done.\n"
     ]
    },
    {
     "data": {
      "text/plain": [
       "[]"
      ]
     },
     "execution_count": 73,
     "metadata": {},
     "output_type": "execute_result"
    }
   ],
   "source": [
    "%%sql\n",
    "-- Create indexes for better performance\n",
    "CREATE INDEX IF NOT EXISTS idx_customer_email ON customers(email);\n",
    "CREATE INDEX IF NOT EXISTS idx_product_category ON products(category_id);\n",
    "CREATE INDEX IF NOT EXISTS idx_order_customer ON orders(customer_id);\n",
    "CREATE INDEX IF NOT EXISTS idx_order_date ON orders(order_date);\n",
    "CREATE INDEX IF NOT EXISTS idx_orderitem_order ON order_items(order_id);\n",
    "CREATE INDEX IF NOT EXISTS idx_orderitem_product ON order_items(product_id);"
   ]
  },
  {
   "cell_type": "code",
   "execution_count": null,
   "id": "004dfb20-6aa7-4ae4-9382-8de4cd5cee27",
   "metadata": {},
   "outputs": [],
   "source": []
  }
 ],
 "metadata": {
  "kernelspec": {
   "display_name": "Python 3 (ipykernel)",
   "language": "python",
   "name": "python3"
  },
  "language_info": {
   "codemirror_mode": {
    "name": "ipython",
    "version": 3
   },
   "file_extension": ".py",
   "mimetype": "text/x-python",
   "name": "python",
   "nbconvert_exporter": "python",
   "pygments_lexer": "ipython3",
   "version": "3.12.3"
  }
 },
 "nbformat": 4,
 "nbformat_minor": 5
}
